{
  "nbformat": 4,
  "nbformat_minor": 0,
  "metadata": {
    "colab": {
      "name": "Install Scala.ipynb",
      "provenance": [],
      "collapsed_sections": [
        "up2G8zDbhsEN",
        "sL1Vq6r6J6dA"
      ],
      "toc_visible": true,
      "include_colab_link": true
    },
    "kernelspec": {
      "display_name": "Scala",
      "language": "scala",
      "name": "scala"
    }
  },
  "cells": [
    {
      "cell_type": "markdown",
      "metadata": {
        "id": "view-in-github",
        "colab_type": "text"
      },
      "source": [
        "<a href=\"https://colab.research.google.com/github/lompas10/Scala_basics/blob/main/Install_Scala.ipynb\" target=\"_parent\"><img src=\"https://colab.research.google.com/assets/colab-badge.svg\" alt=\"Open In Colab\"/></a>"
      ]
    },
    {
      "cell_type": "markdown",
      "metadata": {
        "id": "up2G8zDbhsEN"
      },
      "source": [
        "# Scala in Colab"
      ]
    },
    {
      "cell_type": "markdown",
      "metadata": {
        "id": "sL1Vq6r6J6dA"
      },
      "source": [
        "## Install the Scala Kernel\n",
        "If you get a \"scala\" kernel not recognized warning when loading up the notebook for the first time, start by running the two cells below. Once you are done **reload the page** to load the notebook in the installed Scala kernel."
      ]
    },
    {
      "cell_type": "code",
      "metadata": {
        "id": "RoCcdvTCAqeR"
      },
      "source": [
        "%%shell\n",
        "SCALA_VERSION=2.12.8 ALMOND_VERSION=0.3.0+16-548dc10f-SNAPSHOT\n",
        "curl -Lo coursier https://git.io/coursier-cli\n",
        "chmod +x coursier\n",
        "./coursier bootstrap \\\n",
        "    -r jitpack -r sonatype:snapshots \\\n",
        "    -i user -I user:sh.almond:scala-kernel-api_$SCALA_VERSION:$ALMOND_VERSION \\\n",
        "    sh.almond:scala-kernel_$SCALA_VERSION:$ALMOND_VERSION \\\n",
        "    --sources --default=true \\\n",
        "    -o almond-snapshot --embed-files=false\n",
        "rm coursier\n",
        "./almond-snapshot --install --global --force\n",
        "rm almond-snapshot"
      ],
      "execution_count": null,
      "outputs": []
    },
    {
      "cell_type": "code",
      "metadata": {
        "id": "BZchIo9sArF4"
      },
      "source": [
        "%%shell\n",
        "echo \"{\n",
        "  \\\"language\\\" : \\\"scala\\\",\n",
        "  \\\"display_name\\\" : \\\"Scala\\\",\n",
        "  \\\"argv\\\" : [\n",
        "    \\\"bash\\\",\n",
        "    \\\"-c\\\",\n",
        "    \\\"env LD_PRELOAD=/usr/lib/x86_64-linux-gnu/libpython3.6m.so:\\$LD_PRELOAD java -jar /usr/local/share/jupyter/kernels/scala/launcher.jar --connection-file {connection_file}\\\"\n",
        "  ]\n",
        "}\" > /usr/local/share/jupyter/kernels/scala/kernel.json"
      ],
      "execution_count": null,
      "outputs": []
    },
    {
      "cell_type": "markdown",
      "metadata": {
        "id": "kQe78pN0OSuq"
      },
      "source": [
        "## Hello World!"
      ]
    },
    {
      "cell_type": "code",
      "metadata": {
        "id": "a9z0PxRg_iOp",
        "colab": {
          "base_uri": "https://localhost:8080/"
        },
        "outputId": "b9c70cde-1da2-4d3d-d995-a77ee75fce11"
      },
      "source": [
        "println(\"Hello, world!\")"
      ],
      "execution_count": null,
      "outputs": [
        {
          "output_type": "stream",
          "text": [
            "Hello, world!\n"
          ],
          "name": "stdout"
        }
      ]
    }
  ]
}